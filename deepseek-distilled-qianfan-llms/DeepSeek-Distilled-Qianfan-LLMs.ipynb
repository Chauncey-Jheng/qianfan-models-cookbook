{
 "cells": [
  {
   "cell_type": "markdown",
   "metadata": {},
   "source": "# DeepSeek Distilled Qianfan LLMs\n\n\u672c\u6587\u4ecb\u7ecd\u5343\u5e06\u7cfb\u5217\u57fa\u4e8eDeepSeek-R1\u7684\u84b8\u998f\u6a21\u578b\uff0c\u5305\u62ec\u8bad\u7ec3\u65b9\u6cd5\u3001\u57fa\u51c6\u6d4b\u8bd5\u7ed3\u679c\u548c\u4f7f\u7528\u793a\u4f8b\u3002"
  },
  {
   "cell_type": "markdown",
   "metadata": {},
   "source": "## 1. \u8bad\u7ec3\u65b9\u6cd5\n\n\u5343\u5e06\u7cfb\u5217\u5927\u6a21\u578b\u7684\u8bad\u7ec3\u5206\u4e3a\u4e24\u4e2a\u4e3b\u8981\u9636\u6bb5\uff1a\n\n1. **\u6301\u7eed\u9884\u8bad\u7ec3\u9636\u6bb5**\uff1a\u6784\u5efa\u4e86\u8d85\u8fc73T tokens\u7684\u9ad8\u8d28\u91cf\u9884\u8bad\u7ec3\u8bed\u6599\uff0c\u6765\u6e90\u5305\u62ec\u767e\u5ea6\u5185\u90e8\u641c\u7d22\u6570\u636e\u3001\u767e\u79d1\u5185\u5bb9\u3001\u6559\u80b2\u8d44\u6e90\u3001\u6587\u7ae0\u53ca\u5c0f\u8bf4\u7b49\uff0c\u4ee5\u53ca\u5916\u90e8\u5f00\u6e90\u6570\u636e\u96c6\u5982Fineweb\u3001RedPajama\u3001Star-Code\u3001\u609f\u9053\u548cMathPile\u7b49\u3002\u8fd9\u4e9b\u6570\u636e\u7ecf\u8fc7\u4e25\u683c\u7684\u6570\u636e\u7ba1\u9053\u8fc7\u6ee4\u548c\u6df1\u5ea6\u52a0\u5de5\u3002\n\n2. **\u9ad8\u6548\u84b8\u998f\u9636\u6bb5**\uff1a\u901a\u8fc7\u6784\u5efa\u9ad8\u8d28\u91cf\u84b8\u998f\u6570\u636e\u96c6\uff0c\u4ece\u4ebf\u7ea7SFT\u6570\u636e\u4e2d\u4e25\u683c\u53bb\u91cd\uff0c\u83b7\u5f97\u5343\u4e07\u7ea7\u95ee\u7b54\u5bf9\u8bed\u6599\uff08\u542b\u4ee3\u7801\u548c\u6570\u5b66\u76f8\u5173\u6570\u636e\uff09\u3002\u4f7f\u7528DeepSeek-R1\u7b49\u63a8\u7406\u5927\u6a21\u578b\u751f\u6210\u9ad8\u8d28\u91cf\u6559\u5e08\u6a21\u578b\u8f93\u51fa\uff0c\u5e76\u901a\u8fc7\u89c4\u5219\u8fc7\u6ee4\u3001\u4ee3\u7801\u6267\u884c\u9a8c\u8bc1\u3001\u6a21\u578b\u6253\u5206\u548c\u96be\u5ea6\u5206\u7ea7\u7b49\u65b9\u5f0f\u786e\u4fdd\u6570\u636e\u8d28\u91cf\uff0c\u6700\u7ec8\u83b7\u5f97\u6570\u767e\u4e07\u6761\u9ad8\u8d28\u91cf\u84b8\u998f\u6570\u636e\uff0c\u7528\u4e8e\u76d1\u7763\u5fae\u8c03\u57fa\u7840\u6a21\u578b\uff0c\u6210\u529f\u8bad\u7ec3\u51fa8B\u548c70B\u7684\u84b8\u998f\u6a21\u578b\u3002"
  },
  {
   "cell_type": "markdown",
   "metadata": {},
   "source": "## 2. \u6a21\u578b\u5728\u516c\u5f00Benchmark\u4e0b\u7684\u6307\u6807\n\n### DeepSeek-R1-Distill-Qianfan-8B \u6a21\u578b\u6027\u80fd\n\n| \u6a21\u578b | MMLU(5-shot) | MMLU-Pro(5-shot) | WinoGrande(5-shot) | ARC-C(5-shot) | CMMLU(5-shot) | C-Eval(5-shot) | GSM8K(4-shot) | MATH(4-shot) | CMATH | HumanEval(0-shot) | MBPP(3-shot) | AIME2024 | GPQA | MATH500 |\n|:------|:---------------|-------------------:|---------------------:|---------------:|----------------:|-----------------:|----------------:|---------------:|--------:|------------------:|---------------:|-----------:|-------:|----------:|\n| DeepSeek-R1-Distill-Qianfan-8B | 77.2 | 49.6 | 74.03 | 54.9 | 69.68 | 67.76 | 87.64 | 78.78 | 88.17 | 60.37 | 49.6 | 30 | 42 | 86.54 |\n| DeepSeek-R1-Distill-Llama-8B | 65.05 | 36.35 | 63.38 | 38.98 | 49.54 | 49.93 | 74.98 | 56.18 | 84.5 | 68.9 | 60 | 50 | 45.5 | 86 |\n| DeepSeek-R1-Distill-Qwen-7B | 62.39 | 41.21 | 54.14 | 37.63 | 53.54 | 57.52 | 77.33 | 60.56 | 79.5 | 70.73 | 60.8 | 60 | 47.98 | 89.4 |\n\n### DeepSeek-R1-Distill-Qianfan-70B \u6a21\u578b\u6027\u80fd\n\n| \u6a21\u578b | MMLU(5-shot) | MMLU-Pro(5-shot) | WinoGrande(5-shot) | ARC-C(5-shot) | CMMLU(5-shot) | C-Eval(5-shot) | GSM8K(4-shot) | MATH(4-shot) | CMATH | HumanEval(0-shot) | MBPP(3-shot) | AIME2024 | GPQA | MATH500 |\n|:------|:---------------|-------------------:|---------------------:|---------------:|----------------:|-----------------:|----------------:|---------------:|--------:|------------------:|---------------:|-----------:|-------:|----------:|\n| DeepSeek-R1-Distill-Qianfan-70B | 88 | 69.6 | 85.08 | 64.41 | 85.9 | 84.87 | 88.02 | 92.97 | 94.9 | 85.98 | 78 | 64.17 | 58.46 | 93.5 |\n| DeepSeek-R1-Distill-Llama-70B | 87.06 | 71.7 | 81.61 | 56.95 | 72.54 | 74.31 | 80.74 | 82.26 | 89.83 | 88.41 | 81.4 | 65 | 62.1 | 94.4 |"
  },
  {
   "cell_type": "markdown",
   "metadata": {},
   "source": "## 3. \u4f7f\u7528\u793a\u4f8b\n\n\u4ee5\u4e0b\u662f\u901a\u8fc7OpenAI\u63a5\u53e3\u8c03\u7528\u5343\u5e06\u6a21\u578b\u7684\u793a\u4f8b\u4ee3\u7801\uff1a"
  },
  {
   "cell_type": "code",
   "execution_count": null,
   "metadata": {},
   "outputs": [],
   "source": "import os\nimport time\nfrom openai import OpenAI\n\n# \u83b7\u53d6API\u5bc6\u94a5\nqianfan_api_key = os.environ.get(\"QIANFAN_TOKEN\")\n\n# \u521d\u59cb\u5316\u5ba2\u6237\u7aef\nclient = OpenAI(api_key=qianfan_api_key, base_url=\"https://qianfan.baidubce.com/v2\")\n\n# \u53d1\u9001\u8bf7\u6c42\nresponse = client.chat.completions.create(\n    model=\"qianfan-8b\",  # \u53ef\u9009\u62e9qianfan-8b\u6216qianfan-70b\n    messages=[ {\"role\": \"user\", \"content\": \"Every morning, Aya does a $9$ kilometer walk, and then finishes at the coffee shop. One day, she walks at $s$ kilometers per hour, and the walk takes $4$ hours, including $t$ minutes at the coffee shop. Another morning, she walks at $s+2$ kilometers per hour, and the walk takes $2$ hours and $24$ minutes, including $t$ minutes at the coffee shop. This morning, if she walks at $s+\\\\frac12$ kilometers per hour, how many minutes will the walk take, including the $t$ minutes at the coffee shop?\\n\\nPlease reason step by step, and put your final answer within \\\\boxed{}.\\n\"}],\n    stream=False,\n    temperature=0.6,\n    top_p=0.95,\n    max_tokens=16000\n)"
  },
  {
   "cell_type": "code",
   "execution_count": null,
   "metadata": {},
   "outputs": [],
   "source": "# \u6253\u5370\u63a8\u7406\u5185\u5bb9\nprint(\"\u63a8\u7406\u5185\u5bb9:\")\nprint(response.choices[0].message.reasoning_content)"
  },
  {
   "cell_type": "code",
   "execution_count": null,
   "metadata": {},
   "outputs": [],
   "source": "# \u6253\u5370\u6700\u7ec8\u56de\u7b54\nprint(\"\u6700\u7ec8\u56de\u7b54:\")\nprint(response.choices[0].message.content)"
  }
 ],
 "metadata": {
  "kernelspec": {
   "display_name": "Python 3",
   "language": "python",
   "name": "python3"
  },
  "language_info": {
   "codemirror_mode": {
    "name": "ipython",
    "version": 3
   },
   "file_extension": ".py",
   "mimetype": "text/x-python",
   "name": "python",
   "nbconvert_exporter": "python",
   "pygments_lexer": "ipython3",
   "version": "3.8.10"
  }
 },
 "nbformat": 4,
 "nbformat_minor": 4
}
