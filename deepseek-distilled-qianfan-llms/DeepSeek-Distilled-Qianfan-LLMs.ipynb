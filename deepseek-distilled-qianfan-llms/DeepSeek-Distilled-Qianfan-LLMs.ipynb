{
 "cells": [
  {
   "cell_type": "markdown",
   "metadata": {},
   "source": [
    "# DeepSeek Distilled Qianfan LLMs\n",
    "\n",
    "本文介绍千帆系列基于DeepSeek-R1的蒸馏模型，包括训练方法、基准测试结果和使用示例。"
   ]
  },
  {
   "cell_type": "markdown",
   "metadata": {},
   "source": [
    "## 1. 训练方法\n",
    "\n",
    "千帆系列大模型的训练分为两个主要阶段：\n",
    "\n",
    "1. **持续预训练阶段**：构建了超过3T tokens的高质量预训练语料，来源包括百度内部搜索数据、百科内容、教育资源、文章及小说等，以及外部开源数据集如Fineweb、RedPajama、Star-Code、悟道和MathPile等。这些数据经过严格的数据管道过滤和深度加工。\n",
    "\n",
    "2. **高效蒸馏阶段**：通过构建高质量蒸馏数据集，从亿级SFT数据中严格去重，获得千万级问答对语料（含代码和数学相关数据）。使用DeepSeek-R1等推理大模型生成高质量教师模型输出，并通过规则过滤、代码执行验证、模型打分和难度分级等方式确保数据质量，最终获得数百万条高质量蒸馏数据，用于监督微调基础模型，成功训练出8B和70B的蒸馏模型。"
   ]
  },
  {
   "cell_type": "markdown",
   "metadata": {},
   "source": [
    "## 2. 模型在公开Benchmark下的指标\n",
    "\n",
    "### DeepSeek-R1-Distill-Qianfan-8B 模型性能\n",
    "\n",
    "| 模型 | MMLU(5-shot) | MMLU-Pro(5-shot) | WinoGrande(5-shot) | ARC-C(5-shot) | CMMLU(5-shot) | C-Eval(5-shot) | GSM8K(4-shot) | MATH(4-shot) | CMATH | HumanEval(0-shot) | MBPP(3-shot) | AIME2024 | GPQA | MATH500 |\n",
    "|:------|:---------------|-------------------:|---------------------:|---------------:|----------------:|-----------------:|----------------:|---------------:|--------:|------------------:|---------------:|-----------:|-------:|----------:|\n",
    "| DeepSeek-R1-Distill-Qianfan-8B | 77.2 | 49.6 | 74.03 | 54.9 | 69.68 | 67.76 | 87.64 | 78.78 | 88.17 | 60.37 | 49.6 | 30 | 42 | 86.54 |\n",
    "| DeepSeek-R1-Distill-Llama-8B | 65.05 | 36.35 | 63.38 | 38.98 | 49.54 | 49.93 | 74.98 | 56.18 | 84.5 | 68.9 | 60 | 50 | 45.5 | 86 |\n",
    "| DeepSeek-R1-Distill-Qwen-7B | 62.39 | 41.21 | 54.14 | 37.63 | 53.54 | 57.52 | 77.33 | 60.56 | 79.5 | 70.73 | 60.8 | 60 | 47.98 | 89.4 |\n",
    "\n",
    "### DeepSeek-R1-Distill-Qianfan-70B 模型性能\n",
    "\n",
    "| 模型 | MMLU(5-shot) | MMLU-Pro(5-shot) | WinoGrande(5-shot) | ARC-C(5-shot) | CMMLU(5-shot) | C-Eval(5-shot) | GSM8K(4-shot) | MATH(4-shot) | CMATH | HumanEval(0-shot) | MBPP(3-shot) | AIME2024 | GPQA | MATH500 |\n",
    "|:------|:---------------|-------------------:|---------------------:|---------------:|----------------:|-----------------:|----------------:|---------------:|--------:|------------------:|---------------:|-----------:|-------:|----------:|\n",
    "| DeepSeek-R1-Distill-Qianfan-70B | 88 | 69.6 | 85.08 | 64.41 | 85.9 | 84.87 | 88.02 | 92.97 | 94.9 | 85.98 | 78 | 64.17 | 58.46 | 93.5 |\n",
    "| DeepSeek-R1-Distill-Llama-70B | 87.06 | 71.7 | 81.61 | 56.95 | 72.54 | 74.31 | 80.74 | 82.26 | 89.83 | 88.41 | 81.4 | 65 | 62.1 | 94.4 |"
   ]
  },
  {
   "cell_type": "markdown",
   "metadata": {},
   "source": [
    "## 3. 使用示例\n",
    "\n",
    "以下是通过OpenAI接口调用千帆模型的示例代码："
   ]
  },
  {
   "cell_type": "code",
   "execution_count": 8,
   "metadata": {},
   "outputs": [],
   "source": [
    "import os\n",
    "import time\n",
    "from openai import OpenAI\n",
    "\n",
    "# 获取API密钥\n",
    "qianfan_api_key = os.environ.get(\"QIANFAN_TOKEN\")\n",
    "\n",
    "# 初始化客户端\n",
    "client = OpenAI(api_key=qianfan_api_key, base_url=\"https://qianfan.baidubce.com/v2\")\n",
    "\n",
    "# 发送请求\n",
    "response = client.chat.completions.create(\n",
    "    model=\"deepseek-r1-distill-qianfan-8b\", \n",
    "    messages=[ {\"role\": \"user\", \"content\": \"Janet’s ducks lay 16 eggs per day. She eats three for breakfast every morning and bakes muffins for her friends every day with four. She sells the remainder at the farmers' market daily for $2 per fresh duck egg. How much in dollars does she make every day at the farmers' market?\\nLet's think step by step\\nAnswer:\"}],\n",
    "    stream=False,\n",
    "    temperature=0.6,\n",
    "    top_p=0.95,\n",
    "    max_tokens=8192\n",
    ")"
   ]
  },
  {
   "cell_type": "code",
   "execution_count": 9,
   "metadata": {},
   "outputs": [
    {
     "name": "stdout",
     "output_type": "stream",
     "text": [
      "推理内容:\n",
      "Okay, let's see. Janet has ducks that lay 16 eggs each day. So first, she starts with 16 eggs every morning. Then, she eats three of those eggs for breakfast. Hmm, so that would be 16 minus 3. Let me write that down: 16 - 3 = 13. So after breakfast, she has 13 eggs left.\n",
      "\n",
      "Next, she bakes muffins for her friends every day using four eggs. So she uses four more eggs for the muffins. That means we need to subtract another 4 from the remaining 13 eggs. Let me calculate that: 13 - 4 = 9. So now she has 9 eggs left after making the muffins.\n",
      "\n",
      "The problem says she sells the remainder at the farmers' market daily for $2 per fresh duck egg. The remainder here would be those 9 eggs she didn't eat or use for muffins. So she sells 9 eggs each day. Each egg is sold for $2, so to find out how much she makes in total, I need to multiply the number of eggs by the price per egg. That would be 9 eggs * $2 per egg. Let me do that multiplication: 9 * 2 = 18.\n",
      "\n",
      "Wait, let me double-check to make sure I didn't miss anything. She starts with 16 eggs, subtracts 3 for breakfast, then subtracts 4 for muffins, leaving 9. Then sells 9 at $2 each. Yeah, that seems right. So 9 times 2 is indeed 18. So she makes $18 every day at the farmers' market. I think that's the answer. Let me just go through it again step by step to be sure.\n",
      "\n",
      "Total eggs laid: 16. Eaten for breakfast: 3. So 16 - 3 = 13. Eggs used for muffins: 4. 13 - 4 = 9. Sold at market: 9 eggs. Each sold for $2. 9 * 2 = $18. Yep, that checks out. I don't see any other steps or information in the problem that I might have overlooked. So the answer should be $18.\n",
      "\n",
      "\n"
     ]
    }
   ],
   "source": [
    "# 打印推理内容\n",
    "print(\"推理内容:\")\n",
    "print(response.choices[0].message.reasoning_content)"
   ]
  },
  {
   "cell_type": "code",
   "execution_count": 10,
   "metadata": {},
   "outputs": [
    {
     "name": "stdout",
     "output_type": "stream",
     "text": [
      "最终回答:\n",
      "\n",
      "\n",
      "\n",
      "Janet starts with 16 eggs laid by her ducks. Each day, she consumes 3 eggs for breakfast and uses 4 eggs for muffins. \n",
      "\n",
      "1. **Eggs after breakfast:**  \n",
      "   \\( 16 - 3 = 13 \\) eggs remaining.  \n",
      "\n",
      "2. **Eggs after muffins:**  \n",
      "   \\( 13 - 4 = 9 \\) eggs remaining.  \n",
      "\n",
      "She sells the remaining 9 eggs at the farmers' market for $2 each.  \n",
      "\n",
      "3. **Daily earnings:**  \n",
      "   \\( 9 \\times \\$2 = \\$18 \\).  \n",
      "\n",
      "**Answer:** Janet makes $\\boxed{18}$ dollars every day at the farmers' market.\n"
     ]
    }
   ],
   "source": [
    "# 打印最终回答\n",
    "print(\"最终回答:\")\n",
    "print(response.choices[0].message.content)"
   ]
  }
 ],
 "metadata": {
  "kernelspec": {
   "display_name": "Python 3 (ipykernel)",
   "language": "python",
   "name": "python3"
  },
  "language_info": {
   "codemirror_mode": {
    "name": "ipython",
    "version": 3
   },
   "file_extension": ".py",
   "mimetype": "text/x-python",
   "name": "python",
   "nbconvert_exporter": "python",
   "pygments_lexer": "ipython3",
   "version": "3.12.8"
  }
 },
 "nbformat": 4,
 "nbformat_minor": 4
}
